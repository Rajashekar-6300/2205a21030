{
  "nbformat": 4,
  "nbformat_minor": 0,
  "metadata": {
    "colab": {
      "provenance": [],
      "authorship_tag": "ABX9TyMRspVOu+RdvrBXpOOrpPtQ",
      "include_colab_link": true
    },
    "kernelspec": {
      "name": "python3",
      "display_name": "Python 3"
    },
    "language_info": {
      "name": "python"
    }
  },
  "cells": [
    {
      "cell_type": "markdown",
      "metadata": {
        "id": "view-in-github",
        "colab_type": "text"
      },
      "source": [
        "<a href=\"https://colab.research.google.com/github/Rajashekar-6300/2205a21030/blob/main/2205A21030_A8.ipynb\" target=\"_parent\"><img src=\"https://colab.research.google.com/assets/colab-badge.svg\" alt=\"Open In Colab\"/></a>"
      ]
    },
    {
      "cell_type": "code",
      "execution_count": null,
      "metadata": {
        "colab": {
          "base_uri": "https://localhost:8080/"
        },
        "id": "7HEKaBgVa-jo",
        "outputId": "8785051f-5873-4d52-9cae-0353bf456ddd"
      },
      "outputs": [
        {
          "output_type": "stream",
          "name": "stdout",
          "text": [
            "[' raju', 1985, 'dheeraj', 2014]\n",
            "['v', 'e', 'n', 'k', 'a', 't']\n"
          ]
        }
      ],
      "source": [
        "atuple=(' raju', 1985, 'dheeraj',2014)\n",
        "str='venkat'\n",
        "list1=list(atuple)\n",
        "list2=list(str)\n",
        "print(list1)\n",
        "print(list2)\n"
      ]
    },
    {
      "cell_type": "code",
      "source": [
        "Students=[ 'ram' , 'venkat']\n",
        "print(Students)\n",
        "Students. append ('Dev')\n",
        "print(Students)\n"
      ],
      "metadata": {
        "colab": {
          "base_uri": "https://localhost:8080/"
        },
        "id": "hXewKA5FkcMk",
        "outputId": "9d127d54-c53f-4f7b-bd53-b58758d5b330"
      },
      "execution_count": null,
      "outputs": [
        {
          "output_type": "stream",
          "name": "stdout",
          "text": [
            "['ram', 'venkat']\n",
            "['ram', 'venkat', 'Dev']\n"
          ]
        }
      ]
    },
    {
      "cell_type": "code",
      "source": [
        "Grade= ['A', 'A', 'B' ,'C','A']\n",
        "print( 'How many peoples got A grade' ,Grade. count('A' ))\n",
        "\n",
        "\n",
        "\n"
      ],
      "metadata": {
        "colab": {
          "base_uri": "https://localhost:8080/"
        },
        "id": "7t4lPy0hlDE0",
        "outputId": "48df9187-3de1-4ee8-95b1-0cf23945c107"
      },
      "execution_count": null,
      "outputs": [
        {
          "output_type": "stream",
          "name": "stdout",
          "text": [
            "How many peoples got A grade 3\n"
          ]
        }
      ]
    },
    {
      "cell_type": "code",
      "source": [
        "Family=[ 'Venkat', 'Swetha']\n",
        "print( 'Family members' ,Family)\n",
        "atuple=('Dev' , 'Thanmai')\n",
        "Family. extend(atuple)\n",
        "print( 'Family members' ,Family)\n",
        "\n"
      ],
      "metadata": {
        "colab": {
          "base_uri": "https://localhost:8080/"
        },
        "id": "WyCN8A4plj10",
        "outputId": "bbedfc97-492a-4e3e-c207-d435b05e5d1d"
      },
      "execution_count": null,
      "outputs": [
        {
          "output_type": "stream",
          "name": "stdout",
          "text": [
            "Family members ['Venkat', 'Swetha']\n",
            "Family members ['Venkat', 'Swetha', 'Dev', 'Thanmai']\n"
          ]
        }
      ]
    },
    {
      "cell_type": "code",
      "source": [
        "Grade= ['A','A', 'B', 'c', 'A', 'B']\n",
        "print( 'lowest index for grade B' ,Grade. index('B'))\n",
        "\n",
        "\n"
      ],
      "metadata": {
        "colab": {
          "base_uri": "https://localhost:8080/"
        },
        "id": "E4m-xeSxmFuc",
        "outputId": "25bea34f-4a81-4c70-810b-74625b195dd7"
      },
      "execution_count": null,
      "outputs": [
        {
          "output_type": "stream",
          "name": "stdout",
          "text": [
            "lowest index for grade B 2\n"
          ]
        }
      ]
    },
    {
      "cell_type": "code",
      "source": [
        "Name=[ 'Ramana', 'Thanmai', 'Dev']\n",
        "print ('Family members' , Name )\n",
        "Name. insert(1, 'Swetha')\n",
        "print ( 'Family members' , Name )\n"
      ],
      "metadata": {
        "colab": {
          "base_uri": "https://localhost:8080/"
        },
        "id": "tBKDyuhBmrws",
        "outputId": "710c787a-f7be-4d43-b8e9-08de1dfec092"
      },
      "execution_count": null,
      "outputs": [
        {
          "output_type": "stream",
          "name": "stdout",
          "text": [
            "Family members ['Ramana', 'Thanmai', 'Dev']\n",
            "Family members ['Ramana', 'Swetha', 'Thanmai', 'Dev']\n"
          ]
        }
      ]
    },
    {
      "cell_type": "code",
      "source": [
        "Family=['Ramana', 'Swetha' , 'Thanmai', 'Dev']\n",
        "print( 'Family members',Family)\n",
        "Family.reverse()\n",
        "print('Family members',Family)\n"
      ],
      "metadata": {
        "colab": {
          "base_uri": "https://localhost:8080/"
        },
        "id": "ar4uySaTnOT9",
        "outputId": "be8c3c00-b4fb-4177-e177-831d19f5d699"
      },
      "execution_count": 18,
      "outputs": [
        {
          "output_type": "stream",
          "name": "stdout",
          "text": [
            "Family members ['Ramana', 'Swetha', 'Thanmai', 'Dev']\n",
            "Family members ['Dev', 'Thanmai', 'Swetha', 'Ramana']\n"
          ]
        }
      ]
    },
    {
      "cell_type": "code",
      "source": [
        "Qualification=['venkat','B.Tech',2006,'Μ.Ε.',2011,'Ph.D', 2018]\n",
        "Experience=['SSCE', 2007, 'infosys', '2011', 'ΑΙΤΑΜ', '2013', 'SREC', '2018']\n",
        "CA=Qualification+Experience\n",
        "print(\"Qualification=\", Qualification)\n",
        "print(\"Experience=\", Experience)\n",
        "print(\"CA=\", CA)"
      ],
      "metadata": {
        "colab": {
          "base_uri": "https://localhost:8080/"
        },
        "id": "trBhexqXog2M",
        "outputId": "0d74b725-f44c-4f11-8659-1b6227263b4d"
      },
      "execution_count": 21,
      "outputs": [
        {
          "output_type": "stream",
          "name": "stdout",
          "text": [
            "Qualification= ['venkat', 'B.Tech', 2006, 'Μ.Ε.', 2011, 'Ph.D', 2018]\n",
            "Experience= ['SSCE', 2007, 'infosys', '2011', 'ΑΙΤΑΜ', '2013', 'SREC', '2018']\n",
            "CA= ['venkat', 'B.Tech', 2006, 'Μ.Ε.', 2011, 'Ph.D', 2018, 'SSCE', 2007, 'infosys', '2011', 'ΑΙΤΑΜ', '2013', 'SREC', '2018']\n"
          ]
        }
      ]
    },
    {
      "cell_type": "code",
      "source": [
        "Qualification=['venkat','B.Tech',2006,'Μ.Ε.',2011,'Ph.D', 2018]\n",
        "print(Qualification)\n",
        "print(Qualification[0])\n",
        "print(Qualification[1:])\n",
        "print(Qualification[1:5])\n",
        "print(Qualification*2)\n",
        "print(Qualification[::-1])\n"
      ],
      "metadata": {
        "colab": {
          "base_uri": "https://localhost:8080/"
        },
        "id": "VMUcRzwSpRg8",
        "outputId": "6276e9bb-4b73-4055-f3bc-f51144ed4276"
      },
      "execution_count": 22,
      "outputs": [
        {
          "output_type": "stream",
          "name": "stdout",
          "text": [
            "['venkat', 'B.Tech', 2006, 'Μ.Ε.', 2011, 'Ph.D', 2018]\n",
            "venkat\n",
            "['B.Tech', 2006, 'Μ.Ε.', 2011, 'Ph.D', 2018]\n",
            "['B.Tech', 2006, 'Μ.Ε.', 2011]\n",
            "['venkat', 'B.Tech', 2006, 'Μ.Ε.', 2011, 'Ph.D', 2018, 'venkat', 'B.Tech', 2006, 'Μ.Ε.', 2011, 'Ph.D', 2018]\n",
            "[2018, 'Ph.D', 2011, 'Μ.Ε.', 2006, 'B.Tech', 'venkat']\n"
          ]
        }
      ]
    },
    {
      "cell_type": "code",
      "source": [
        "Family=['Ramana', 'Swetha', 'Thanmai', 'Dev']\n",
        "print( 'Family members' ,Family)\n",
        "Family. remove( 'Ramana')\n",
        "print ( 'Family members' , Family)"
      ],
      "metadata": {
        "colab": {
          "base_uri": "https://localhost:8080/"
        },
        "id": "34P-MzMapY_6",
        "outputId": "3a8abc50-efb0-41e6-da62-b941108aa039"
      },
      "execution_count": 25,
      "outputs": [
        {
          "output_type": "stream",
          "name": "stdout",
          "text": [
            "Family members ['Ramana', 'Swetha', 'Thanmai', 'Dev']\n",
            "Family members ['Swetha', 'Thanmai', 'Dev']\n"
          ]
        }
      ]
    },
    {
      "cell_type": "code",
      "source": [
        "Family=['Ramana', 'Swetha', 'Thanmai' , 'Dev']\n",
        "print( 'Family members', Family)\n",
        "Family.sort()\n",
        "print( 'Family members' , Family)\n"
      ],
      "metadata": {
        "colab": {
          "base_uri": "https://localhost:8080/"
        },
        "id": "mZgwRlVDqG8a",
        "outputId": "7d4c9b5e-e1f4-4ebf-b9e0-fba2f447a9bf"
      },
      "execution_count": 26,
      "outputs": [
        {
          "output_type": "stream",
          "name": "stdout",
          "text": [
            "Family members ['Ramana', 'Swetha', 'Thanmai', 'Dev']\n",
            "Family members ['Dev', 'Ramana', 'Swetha', 'Thanmai']\n"
          ]
        }
      ]
    },
    {
      "cell_type": "code",
      "source": [
        "Name= [ 'Ramana' , 'Thanmai', 'Dev']\n",
        "DOB= [1985,2014,2017]\n",
        "print( 'Number of peoples' , len (Name) )\n",
        "print(' ========')\n",
        "Details=Name+DOB # Concatination\n",
        "print( 'Biodata' ,Details)\n",
        "print('=========')\n",
        "Repetition=Name*2\n",
        "print( 'Repetition' ,Repetition)\n",
        "print('=========')\n",
        "for x in Name:\n",
        "   print (x)\n",
        "print( '========')\n"
      ],
      "metadata": {
        "colab": {
          "base_uri": "https://localhost:8080/"
        },
        "id": "-QMBECBlqsBM",
        "outputId": "4ec3ec28-db26-4ac2-a5fc-1bc0d48b4b08"
      },
      "execution_count": 31,
      "outputs": [
        {
          "output_type": "stream",
          "name": "stdout",
          "text": [
            "Number of peoples 3\n",
            " ========\n",
            "Biodata ['Ramana', 'Thanmai', 'Dev', 1985, 2014, 2017]\n",
            "=========\n",
            "Repetition ['Ramana', 'Thanmai', 'Dev', 'Ramana', 'Thanmai', 'Dev']\n",
            "=========\n",
            "Ramana\n",
            "Thanmai\n",
            "Dev\n",
            "========\n"
          ]
        }
      ]
    },
    {
      "cell_type": "code",
      "source": [
        "Name=[ 'Ramana' , 'Thanmai', 'Dev']\n",
        "DOB= [1985, 2014,2017]\n",
        "print( 'Name with maximum charecters' ,max(Name) )\n",
        "print('Younger person DOB' , max(DOB) )\n",
        "print( 'Name with minimum charecters' , min (Name) )\n",
        "print('Older person DOB' ,min (DOB))\n",
        "\n"
      ],
      "metadata": {
        "colab": {
          "base_uri": "https://localhost:8080/"
        },
        "id": "HR6iIcOKtZH7",
        "outputId": "e6c322d6-3b09-40c1-cfbd-6b63c81fa3d8"
      },
      "execution_count": 32,
      "outputs": [
        {
          "output_type": "stream",
          "name": "stdout",
          "text": [
            "Name with maximum charecters Thanmai\n",
            "Younger person DOB 2017\n",
            "Name with minimum charecters Dev\n",
            "Older person DOB 1985\n"
          ]
        }
      ]
    },
    {
      "cell_type": "code",
      "source": [
        "Students=['ram', 'venkat']\n",
        "print(Students)\n",
        "Students.append('Dev')\n",
        "print (Students)\n"
      ],
      "metadata": {
        "colab": {
          "base_uri": "https://localhost:8080/"
        },
        "id": "I8Z3pXNetf4C",
        "outputId": "5545f39e-1733-4b3e-c154-d145d207e7d5"
      },
      "execution_count": 33,
      "outputs": [
        {
          "output_type": "stream",
          "name": "stdout",
          "text": [
            "['ram', 'venkat']\n",
            "['ram', 'venkat', 'Dev']\n"
          ]
        }
      ]
    },
    {
      "cell_type": "code",
      "source": [
        "tuple=('venkat', 'B.Tech' ,2006)\n",
        "print(tuple)\n",
        "print(tuple[0])\n",
        "print(tuple[0:2])\n",
        "print(tuple[0:])\n",
        "print(tuple[:: -1])\n",
        "print(tuple[2:0:-1])\n",
        "\n"
      ],
      "metadata": {
        "colab": {
          "base_uri": "https://localhost:8080/"
        },
        "id": "AEW632xKtmYD",
        "outputId": "df4b2ece-a64d-4b8f-80d5-2e58e8957420"
      },
      "execution_count": 36,
      "outputs": [
        {
          "output_type": "stream",
          "name": "stdout",
          "text": [
            "('venkat', 'B.Tech', 2006)\n",
            "venkat\n",
            "('venkat', 'B.Tech')\n",
            "('venkat', 'B.Tech', 2006)\n",
            "(2006, 'B.Tech', 'venkat')\n",
            "(2006, 'B.Tech')\n"
          ]
        }
      ]
    },
    {
      "cell_type": "code",
      "source": [
        "tiny={ 'Name' : 'Venkat', 'Marks' :891}\n",
        "print(tiny)\n",
        "print (tiny[ 'Name'])\n",
        "print (tiny[ 'Marks'])\n",
        "tiny['Name']='rajashekar'\n",
        "print(tiny)\n"
      ],
      "metadata": {
        "colab": {
          "base_uri": "https://localhost:8080/"
        },
        "id": "9G2Sz95gvMec",
        "outputId": "3caa171e-d7f3-448e-eac2-9ceb018f52ab"
      },
      "execution_count": 37,
      "outputs": [
        {
          "output_type": "stream",
          "name": "stdout",
          "text": [
            "{'Name': 'Venkat', 'Marks': 891}\n",
            "Venkat\n",
            "891\n",
            "{'Name': 'rajashekar', 'Marks': 891}\n"
          ]
        }
      ]
    },
    {
      "cell_type": "code",
      "source": [
        "dict={}\n",
        "print(dict)\n",
        "dict['one']='This is one'\n",
        "dict['2']='This is two'\n",
        "print(dict)\n",
        "print(dict.keys())\n",
        "print(dict.values())\n",
        ""
      ],
      "metadata": {
        "colab": {
          "base_uri": "https://localhost:8080/"
        },
        "id": "5xXe7b-7wKik",
        "outputId": "dcea033e-3dd4-4d98-d15f-ec6bdff4db72"
      },
      "execution_count": 38,
      "outputs": [
        {
          "output_type": "stream",
          "name": "stdout",
          "text": [
            "{}\n",
            "{'one': 'This is one', '2': 'This is two'}\n",
            "dict_keys(['one', '2'])\n",
            "dict_values(['This is one', 'This is two'])\n"
          ]
        }
      ]
    },
    {
      "cell_type": "code",
      "source": [
        "tuple=('venkat', 'B.Tech' ,2006)\n",
        "pgtuple=('M.E','2011')\n",
        "print(tuple*2)\n",
        "print(tuple + pgtuple)\n",
        "List=['venkat', 'Ph.D' ,2018]\n",
        "print(List)\n",
        "List[0]='Ramana'\n",
        "print(List)"
      ],
      "metadata": {
        "colab": {
          "base_uri": "https://localhost:8080/"
        },
        "id": "ON1lJ3a6weMK",
        "outputId": "b0e1b046-efef-49f9-d568-4149d514e6a6"
      },
      "execution_count": 39,
      "outputs": [
        {
          "output_type": "stream",
          "name": "stdout",
          "text": [
            "('venkat', 'B.Tech', 2006, 'venkat', 'B.Tech', 2006)\n",
            "('venkat', 'B.Tech', 2006, 'M.E', '2011')\n",
            "['venkat', 'Ph.D', 2018]\n",
            "['Ramana', 'Ph.D', 2018]\n"
          ]
        }
      ]
    },
    {
      "cell_type": "code",
      "source": [
        "thisset = {\"apple\" , \"banana\", \"cherry\"}\n",
        "mylist = [\"kiwi\", \"orange\"]\n",
        "mylist_2=(2,3)\n",
        "mylist_3={\"Name\": \"Venkat\", \"School\" : \"SRU\"}\n",
        "thisset.update(mylist)\n",
        "thisset.update(mylist_2)\n",
        "thisset.update(mylist_3)\n",
        "print(thisset)\n"
      ],
      "metadata": {
        "colab": {
          "base_uri": "https://localhost:8080/"
        },
        "id": "Q8kSJztnw91C",
        "outputId": "a2eb5b22-d06e-4bca-dc26-9c70fc1fc906"
      },
      "execution_count": 40,
      "outputs": [
        {
          "output_type": "stream",
          "name": "stdout",
          "text": [
            "{2, 3, 'kiwi', 'School', 'Name', 'orange', 'banana', 'apple', 'cherry'}\n"
          ]
        }
      ]
    },
    {
      "cell_type": "code",
      "source": [
        "thisset = {\"apple\", \"banana\", \"cherry\"}\n",
        "tropical = {\"pineapple\", \"mango\", \"papaya\"}\n",
        "thisset.update(tropical)\n",
        "print(thisset)\n"
      ],
      "metadata": {
        "colab": {
          "base_uri": "https://localhost:8080/"
        },
        "id": "88XuW8YMyWfy",
        "outputId": "3b65b8cb-1a9d-4de3-dc9e-b2c537dffddd"
      },
      "execution_count": 41,
      "outputs": [
        {
          "output_type": "stream",
          "name": "stdout",
          "text": [
            "{'mango', 'pineapple', 'banana', 'papaya', 'apple', 'cherry'}\n"
          ]
        }
      ]
    },
    {
      "cell_type": "code",
      "source": [
        "thisset = {\"apple\", \"banana\", \"cherry\"}\n",
        "for x in thisset:\n",
        "  print (x)\n"
      ],
      "metadata": {
        "colab": {
          "base_uri": "https://localhost:8080/"
        },
        "id": "B0gf7JQOycBL",
        "outputId": "a88a34f8-562d-48f1-b991-86ba3af23fd7"
      },
      "execution_count": 42,
      "outputs": [
        {
          "output_type": "stream",
          "name": "stdout",
          "text": [
            "apple\n",
            "cherry\n",
            "banana\n"
          ]
        }
      ]
    }
  ]
}